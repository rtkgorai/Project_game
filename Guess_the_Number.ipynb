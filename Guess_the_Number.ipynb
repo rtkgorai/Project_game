{
 "cells": [
  {
   "cell_type": "code",
   "execution_count": null,
   "id": "796fe405",
   "metadata": {},
   "outputs": [],
   "source": [
    "print(\"hi\")"
   ]
  },
  {
   "cell_type": "code",
   "execution_count": null,
   "id": "9232bbd3",
   "metadata": {},
   "outputs": [],
   "source": [
    "def guesstheno(points):\n",
    "    import random as r\n",
    "    no=r.randint(1,100)\n",
    "    #print(no)#--->the number\n",
    "    guess=0\n",
    "    user= 0\n",
    "    while(no!=user):\n",
    "        #print(s)\n",
    "        try:\n",
    "            user=int(input(\"ENTER ANY NUMBER BETWEEEN 1 TO 100:\"))\n",
    "            if(user<no):\n",
    "                print(\"Enter higher number than\",user)\n",
    "            elif(no<user):\n",
    "                print(\"Enter smaller number than\",user)  \n",
    "            guess+=1\n",
    "        except Exception as e:\n",
    "            print(e)\n",
    "    print(\"You've guessed the number (it was\",no,\") in\",guess,\"attempts!\")\n",
    "    print()\n",
    "    if guess in range(0,6):\n",
    "        print(\"Congratulations! You've win the game and get 2 point\")\n",
    "        points+=2\n",
    "    elif guess in range(6,11):\n",
    "        print(\"You've win the game and get 1 point\")\n",
    "        points+=1\n",
    "    elif guess>10:\n",
    "        print(\"You've lose the game and lose a point\")\n",
    "        points-=1\n",
    "    print()\n",
    "    print(\"Want to play the game again?\")\n",
    "    inf=input(\"Type Y or N:\")\n",
    "    if inf==\"Y\":\n",
    "        guesstheno(points)\n",
    "    elif inf==\"N\":\n",
    "        print(\"Your Final Score:\",points)\n",
    "        print(\"Thank you for playing!\")\n",
    "    else:\n",
    "        print(\"Invalid expression\")\n",
    "        print(\"Your Final Score:\",points)\n",
    "        print(\"Thank you for playing!\")\n",
    "        \n",
    "\n",
    "          \n",
    "    \n",
    "if __name__ == \"__main__\":\n",
    "    print(\"Welcome to the Guess the Number Game!\")\n",
    "    print()\n",
    "    print('''The rules of the \"Guess the Number\" game are as simple as a cup of tea:\n",
    "    The computer randomly selects a number within a specified range.\n",
    "    The player attempts to guess the selected number .\n",
    "    After each guess, the player receives feedback on whether their guess is too high, too low, or correct.\n",
    "    The player continues guessing until they correctly identify the number .\n",
    "    The game ends when the player either guesses the number.\n",
    "    The player can choose to play the game again if they wish.\n",
    "    At last the player get final score according to the condition i.e. \n",
    "    if he/she guessses the number in less than or equal to 5 tries he/she get 2 points \n",
    "    or number of guesses become greater than  5 but lower than 10 gets 1 point \n",
    "    or if guesses become greater than 10 then 1 point will be deducted.''')\n",
    "    print()\n",
    "    guesstheno(0)"
   ]
  },
  {
   "cell_type": "code",
   "execution_count": null,
   "id": "d5c2f01d",
   "metadata": {},
   "outputs": [],
   "source": []
  },
  {
   "cell_type": "code",
   "execution_count": null,
   "id": "610f82bb",
   "metadata": {},
   "outputs": [],
   "source": []
  }
 ],
 "metadata": {
  "kernelspec": {
   "display_name": "Python 3 (ipykernel)",
   "language": "python",
   "name": "python3"
  },
  "language_info": {
   "codemirror_mode": {
    "name": "ipython",
    "version": 3
   },
   "file_extension": ".py",
   "mimetype": "text/x-python",
   "name": "python",
   "nbconvert_exporter": "python",
   "pygments_lexer": "ipython3",
   "version": "3.11.3"
  }
 },
 "nbformat": 4,
 "nbformat_minor": 5
}
